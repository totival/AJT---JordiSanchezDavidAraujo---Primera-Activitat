{
 "cells": [
  {
   "cell_type": "code",
   "execution_count": null,
   "id": "f12a092c",
   "metadata": {},
   "outputs": [],
   "source": []
  },
  {
   "cell_type": "markdown",
   "id": "6bd29fe6",
   "metadata": {},
   "source": [
    "Exercic 1: Enters"
   ]
  },
  {
   "cell_type": "code",
   "execution_count": 7,
   "id": "53182304",
   "metadata": {},
   "outputs": [],
   "source": [
    "preu_entrada= 8.35\n",
    "a = preu_entrada \n"
   ]
  },
  {
   "cell_type": "code",
   "execution_count": 8,
   "id": "d64250af",
   "metadata": {},
   "outputs": [],
   "source": [
    "nombre_entrades = 1\n",
    "b= nombre_entrades"
   ]
  },
  {
   "cell_type": "code",
   "execution_count": 9,
   "id": "cb8b1644",
   "metadata": {},
   "outputs": [
    {
     "name": "stdout",
     "output_type": "stream",
     "text": [
      "41.75\n"
     ]
    }
   ],
   "source": [
    "cost_total= a*(5*b)\n",
    "print(cost_total)"
   ]
  },
  {
   "cell_type": "code",
   "execution_count": 10,
   "id": "6021478c",
   "metadata": {},
   "outputs": [
    {
     "name": "stdout",
     "output_type": "stream",
     "text": [
      "2955.9\n"
     ]
    }
   ],
   "source": [
    "cost_total = a*(354*b)\n",
    "print(cost_total)"
   ]
  },
  {
   "cell_type": "code",
   "execution_count": 13,
   "id": "f77487bc",
   "metadata": {},
   "outputs": [],
   "source": [
    "nombre_entrades_retornades = 4\n",
    "percentatge = 88/100"
   ]
  },
  {
   "cell_type": "code",
   "execution_count": 42,
   "id": "30dc3a02",
   "metadata": {},
   "outputs": [
    {
     "data": {
      "text/plain": [
       "44.087999999999994"
      ]
     },
     "execution_count": 42,
     "metadata": {},
     "output_type": "execute_result"
    }
   ],
   "source": [
    "8.35*6*percentatge"
   ]
  },
  {
   "cell_type": "markdown",
   "id": "4541db60",
   "metadata": {},
   "source": [
    "Exercici 2"
   ]
  },
  {
   "cell_type": "code",
   "execution_count": 21,
   "id": "e7c787af",
   "metadata": {},
   "outputs": [],
   "source": [
    "\n",
    "poblacio=1000\n",
    "infectats_inicials=10\n",
    "dies=5\n",
    "taxa_contagi=0.01\n"
   ]
  },
  {
   "cell_type": "code",
   "execution_count": 23,
   "id": "a8646e25",
   "metadata": {},
   "outputs": [
    {
     "name": "stdout",
     "output_type": "stream",
     "text": [
      "58.51985059900009\n"
     ]
    }
   ],
   "source": [
    "infectats=10+(1000-10)*(1-(1-0.01)**5)\n",
    "print(infectats)"
   ]
  },
  {
   "cell_type": "markdown",
   "id": "c3937d09",
   "metadata": {},
   "source": [
    "Exercici 3"
   ]
  },
  {
   "cell_type": "code",
   "execution_count": 24,
   "id": "bb42ccb1",
   "metadata": {},
   "outputs": [],
   "source": [
    "import math"
   ]
  },
  {
   "cell_type": "code",
   "execution_count": 31,
   "id": "053fa099",
   "metadata": {},
   "outputs": [],
   "source": [
    "r=8\n",
    "p=2*math.pi*r\n",
    "a=math.pi*r**2\n",
    "v=(4/3)*math.pi*r**3\n"
   ]
  },
  {
   "cell_type": "code",
   "execution_count": 29,
   "id": "fcd25367",
   "metadata": {},
   "outputs": [],
   "source": [
    "p=2*math.pi*r\n",
    "a=math.pi*r**2\n",
    "v=(4/3)*math.pi*r**3"
   ]
  },
  {
   "cell_type": "code",
   "execution_count": 33,
   "id": "1b5e54c9",
   "metadata": {},
   "outputs": [
    {
     "name": "stdout",
     "output_type": "stream",
     "text": [
      "El perimetre es 50.27, l'area es 201.06m**2 i el volum es 2144.66\n"
     ]
    }
   ],
   "source": [
    "print(f\"El perimetre es {round(p,2)}, l'area es {round(a,2)}m**2 i el volum es {round(v,2)}\")"
   ]
  },
  {
   "cell_type": "markdown",
   "id": "60273b2f",
   "metadata": {},
   "source": [
    "Exercici 4"
   ]
  },
  {
   "cell_type": "code",
   "execution_count": 35,
   "id": "d9424aaa",
   "metadata": {},
   "outputs": [
    {
     "name": "stdout",
     "output_type": "stream",
     "text": [
      "Hola el meu nom comença per J, acaba per o i té 26 caràcters.\n",
      "Les lletres de la posició 2 a 5 són: rdi \n",
      "El meu nom,amb espais, té26 caràcters.\n",
      "El meu nom en majúscules és JORDI SANCHEZ DAVID ARAUJO i en minúscules és jordi sanchez david araujo.\n"
     ]
    }
   ],
   "source": [
    "primera_lletra = \"J\"\n",
    "ultima_lletra = \"o\"\n",
    "nom_complet = \"Jordi Sanchez David Araujo\"\n",
    "llargada_nom = len(nom_complet)\n",
    "nom_M=nom_complet.upper\n",
    "nom_m=nom_complet.lower\n",
    "\n",
    "tres_lletres = nom_complet[2:6]  # Indexació de la posició 2 a la 5 (inclou 2, 3, 4, 5)\n",
    "print(f\"Hola el meu nom comença per {primera_lletra}, acaba per {ultima_lletra} i té {len(nom_complet)} caràcters.\")\n",
    "print(f\"Les lletres de la posició 2 a 5 són: {tres_lletres}\")\n",
    "print(f\"El meu nom,amb espais, té{len(nom_complet)} caràcters.\")\n",
    "print(f\"El meu nom en majúscules és {nom_complet.upper()} i en minúscules és {nom_complet.lower()}.\")\n",
    "\n",
    "\n"
   ]
  },
  {
   "cell_type": "code",
   "execution_count": null,
   "id": "f7f33c08",
   "metadata": {},
   "outputs": [],
   "source": [
    "\n",
    "\n",
    "\n",
    "\n",
    "\n"
   ]
  }
 ],
 "metadata": {
  "kernelspec": {
   "display_name": "Python 3",
   "language": "python",
   "name": "python3"
  },
  "language_info": {
   "codemirror_mode": {
    "name": "ipython",
    "version": 3
   },
   "file_extension": ".py",
   "mimetype": "text/x-python",
   "name": "python",
   "nbconvert_exporter": "python",
   "pygments_lexer": "ipython3",
   "version": "3.13.7"
  }
 },
 "nbformat": 4,
 "nbformat_minor": 5
}
