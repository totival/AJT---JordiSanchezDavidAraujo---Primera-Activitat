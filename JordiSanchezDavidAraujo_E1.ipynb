{
 "cells": [
  {
   "cell_type": "code",
   "execution_count": null,
   "id": "f12a092c",
   "metadata": {},
   "outputs": [],
   "source": []
  },
  {
   "cell_type": "markdown",
   "id": "6bd29fe6",
   "metadata": {},
   "source": [
    "Exercic 1: Enters"
   ]
  },
  {
   "cell_type": "code",
   "execution_count": null,
   "id": "53182304",
   "metadata": {},
   "outputs": [],
   "source": [
    "preu_entrada= 8.35\n",
    "a = preu_entrada \n"
   ]
  },
  {
   "cell_type": "code",
   "execution_count": null,
   "id": "d64250af",
   "metadata": {},
   "outputs": [],
   "source": [
    "nombre_entrades = 1\n",
    "b= nombre_entrades"
   ]
  },
  {
   "cell_type": "code",
   "execution_count": null,
   "id": "cb8b1644",
   "metadata": {},
   "outputs": [],
   "source": [
    "cost total= a*5*b\n",
    "# Calcular el cost total de les entrades\n",
    "print (cost total)"
   ]
  },
  {
   "cell_type": "code",
   "execution_count": null,
   "id": "f77487bc",
   "metadata": {},
   "outputs": [],
   "source": []
  }
 ],
 "metadata": {
  "language_info": {
   "name": "python"
  }
 },
 "nbformat": 4,
 "nbformat_minor": 5
}
